{
  "cells": [
    {
      "cell_type": "markdown",
      "metadata": {
        "colab_type": "text",
        "id": "view-in-github"
      },
      "source": [
        "<a href=\"https://colab.research.google.com/github/ladata-ufs/Cafezinho-G3/blob/main/project.ipynb\" target=\"_parent\"><img src=\"https://colab.research.google.com/assets/colab-badge.svg\" alt=\"Open In Colab\"/></a>"
      ]
    },
    {
      "cell_type": "markdown",
      "metadata": {
        "id": "TjNcL9Daax4r"
      },
      "source": [
        "# Importação de Bibliotecas"
      ]
    },
    {
      "cell_type": "code",
      "execution_count": null,
      "metadata": {
        "id": "YrIqhW59aW5w"
      },
      "outputs": [],
      "source": [
        "import pandas as pd\n",
        "import numpy as np\n",
        "import matplotlib.pyplot as plt\n",
        "import seaborn as sns"
      ]
    },
    {
      "cell_type": "markdown",
      "metadata": {
        "id": "IozA-hC_bDB8"
      },
      "source": [
        "# Conhecendo o DataSet"
      ]
    },
    {
      "cell_type": "code",
      "execution_count": 5,
      "metadata": {
        "id": "pheOAS8qbF3u"
      },
      "outputs": [],
      "source": [
        "# Remover o '/content' quando finalizar o projeto\n",
        "consumo_domestico = pd.read_csv('/content/data/Coffee_domestic_consumption.csv')\n",
        "exportacao = pd.read_csv('/content/data/Coffee_export.csv')\n",
        "inventorio_cafe_verde = pd.read_csv('/content/data/Coffee_green_coffee_inventorie.csv')\n",
        "importacao = pd.read_csv('/content/data/Coffee_import.csv')\n",
        "consumo_importadores = pd.read_csv('/content/data/Coffee_importers_consumption.csv')\n",
        "producao = pd.read_csv('/content/data/Coffee_production.csv')\n",
        "re_exportacao = pd.read_csv('/content/data/Coffee_re_export.csv')"
      ]
    },
    {
      "cell_type": "code",
      "execution_count": null,
      "metadata": {},
      "outputs": [],
      "source": []
    }
  ],
  "metadata": {
    "colab": {
      "include_colab_link": true,
      "provenance": []
    },
    "kernelspec": {
      "display_name": "Python 3",
      "language": "python",
      "name": "python3"
    },
    "language_info": {
      "codemirror_mode": {
        "name": "ipython",
        "version": 3
      },
      "file_extension": ".py",
      "mimetype": "text/x-python",
      "name": "python",
      "nbconvert_exporter": "python",
      "pygments_lexer": "ipython3",
      "version": "3.11.5"
    }
  },
  "nbformat": 4,
  "nbformat_minor": 0
}
